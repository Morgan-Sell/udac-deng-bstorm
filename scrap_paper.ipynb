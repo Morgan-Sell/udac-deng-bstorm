{
 "cells": [
  {
   "cell_type": "markdown",
   "metadata": {},
   "source": [
    "# Reddit Scrap Paper"
   ]
  },
  {
   "cell_type": "code",
   "execution_count": 8,
   "metadata": {},
   "outputs": [],
   "source": [
    "import praw\n",
    "import pandas as pd\n",
    "import yfinance as yf\n",
    "from datetime import datetime\n",
    "\n",
    "from psaw import PushshiftAPI\n",
    "api = PushshiftAPI()\n",
    "\n",
    "import config"
   ]
  },
  {
   "cell_type": "markdown",
   "metadata": {},
   "source": [
    "## Notes\n",
    "\n",
    "#### Rules for \"has_check\" operator:\n",
    "\n",
    "- Body of text is greater than a certain length. Must determinte threshold."
   ]
  },
  {
   "cell_type": "markdown",
   "metadata": {},
   "source": [
    "## Reddit Connection"
   ]
  },
  {
   "cell_type": "code",
   "execution_count": 2,
   "metadata": {},
   "outputs": [
    {
     "name": "stderr",
     "output_type": "stream",
     "text": [
      "Version 7.0.0 of praw is outdated. Version 7.2.0 was released Wednesday February 24, 2021.\n"
     ]
    }
   ],
   "source": [
    "reddit = praw.Reddit(client_id=config.CLIENT_ID,\n",
    "                     client_secret=config.CLIENT_SECRET,\n",
    "                     user_agent=config.USER_AGENT)"
   ]
  },
  {
   "cell_type": "code",
   "execution_count": 12,
   "metadata": {},
   "outputs": [],
   "source": [
    "start_date = int(datetime(2020, 9, 1).timestamp())\n",
    "end_date = int(datetime(2020, 3, 1).timestamp())\n",
    "subreddit = 'wallstreetbets'\n",
    "\n",
    "gen = api.search_comments(after=start_date,\n",
    "                          before=end_date,\n",
    "                          subreddit=subreddit,\n",
    "                          filter=col_names,\n",
    "                          size=10)"
   ]
  },
  {
   "cell_type": "code",
   "execution_count": 13,
   "metadata": {},
   "outputs": [
    {
     "name": "stderr",
     "output_type": "stream",
     "text": [
      "/Users/morgan/opt/anaconda3/envs/udac_cap/lib/python3.9/site-packages/psaw/PushshiftAPI.py:252: UserWarning: Not all PushShift shards are active. Query results may be incomplete\n",
      "  warnings.warn(shards_down_message)\n"
     ]
    }
   ],
   "source": [
    "df = pd.DataFrame([obj.d_ for obj in gen])"
   ]
  },
  {
   "cell_type": "code",
   "execution_count": 14,
   "metadata": {},
   "outputs": [
    {
     "data": {
      "text/html": [
       "<div>\n",
       "<style scoped>\n",
       "    .dataframe tbody tr th:only-of-type {\n",
       "        vertical-align: middle;\n",
       "    }\n",
       "\n",
       "    .dataframe tbody tr th {\n",
       "        vertical-align: top;\n",
       "    }\n",
       "\n",
       "    .dataframe thead th {\n",
       "        text-align: right;\n",
       "    }\n",
       "</style>\n",
       "<table border=\"1\" class=\"dataframe\">\n",
       "  <thead>\n",
       "    <tr style=\"text-align: right;\">\n",
       "      <th></th>\n",
       "    </tr>\n",
       "  </thead>\n",
       "  <tbody>\n",
       "  </tbody>\n",
       "</table>\n",
       "</div>"
      ],
      "text/plain": [
       "Empty DataFrame\n",
       "Columns: []\n",
       "Index: []"
      ]
     },
     "execution_count": 14,
     "metadata": {},
     "output_type": "execute_result"
    }
   ],
   "source": [
    "df.head()"
   ]
  },
  {
   "cell_type": "markdown",
   "metadata": {},
   "source": [
    "### Extracting Comments"
   ]
  },
  {
   "cell_type": "code",
   "execution_count": 3,
   "metadata": {},
   "outputs": [
    {
     "name": "stdout",
     "output_type": "stream",
     "text": [
      "Weekend Discussion Thread for the Weekend of March 05, 2021\n",
      "WSB Rules - Please Read Before Posting\n",
      "Me who bought the fucking dips last couple of weeks.\n",
      "Consulting with my advisor for Monday's picks.\n",
      "If you don’t commit, you lose. A perfect metaphor.\n",
      "Professional guide for all you autists on how to deal with your losses!\n",
      "DFV's Double Down Update Set Record for Most Awards on a Reddit Post\n",
      "The stockmarket crash soon will be blamed on us I guarantee it\n",
      "Forbes describes GME investment as \"hyper-rational\" and \"based on highly accurate calculations of specific outcomes\" with a high degree of certainty\n",
      "$GME. With Every passing day we are seeing the sentiment switching more and more towards the buy side. A quote from one of my favourites books keeps popping back in my mind\n"
     ]
    }
   ],
   "source": [
    "hot_posts = reddit.subreddit('wallstreetbets').hot(limit=10)\n",
    "for post in hot_posts:\n",
    "    print(post.title)"
   ]
  },
  {
   "cell_type": "markdown",
   "metadata": {},
   "source": [
    "#### Create Dataframe"
   ]
  },
  {
   "cell_type": "code",
   "execution_count": 4,
   "metadata": {},
   "outputs": [
    {
     "ename": "NameError",
     "evalue": "name 'pd' is not defined",
     "output_type": "error",
     "traceback": [
      "\u001b[0;31m---------------------------------------------------------------------------\u001b[0m",
      "\u001b[0;31mNameError\u001b[0m                                 Traceback (most recent call last)",
      "\u001b[0;32m<ipython-input-4-7b7723119aeb>\u001b[0m in \u001b[0;36m<module>\u001b[0;34m\u001b[0m\n\u001b[1;32m     21\u001b[0m                   post.author.name])\n\u001b[1;32m     22\u001b[0m \u001b[0;34m\u001b[0m\u001b[0m\n\u001b[0;32m---> 23\u001b[0;31m \u001b[0mposts_df\u001b[0m \u001b[0;34m=\u001b[0m \u001b[0mpd\u001b[0m\u001b[0;34m.\u001b[0m\u001b[0mDataFrame\u001b[0m\u001b[0;34m(\u001b[0m\u001b[0mposts\u001b[0m\u001b[0;34m,\u001b[0m \u001b[0mcolumns\u001b[0m\u001b[0;34m=\u001b[0m\u001b[0mcol_names\u001b[0m\u001b[0;34m)\u001b[0m\u001b[0;34m\u001b[0m\u001b[0;34m\u001b[0m\u001b[0m\n\u001b[0m",
      "\u001b[0;31mNameError\u001b[0m: name 'pd' is not defined"
     ]
    }
   ],
   "source": [
    "col_names = ['id', 'title', 'body', 'score', 'url', 'num_comments', 'subreddit',\n",
    "             'upvote_ratio', 'date_posted', 'domain', 'gilded', 'num_crossposts',\n",
    "             'over_18', 'author_name']\n",
    "posts = []\n",
    "wsb_sub = reddit.subreddit('wallstreetbets')\n",
    "\n",
    "for post in wsb_sub.top('year',limit=100):\n",
    "    posts.append([post.id,\n",
    "                  post.title,\n",
    "                  post.selftext,\n",
    "                  post.score,\n",
    "                  post.url,\n",
    "                  post.num_comments,\n",
    "                  post.subreddit,\n",
    "                  post.upvote_ratio,\n",
    "                  datetime.utcfromtimestamp(post.created_utc),\n",
    "                  post.domain,\n",
    "                  post.gilded,\n",
    "                  post.num_crossposts,\n",
    "                  post.over_18,\n",
    "                  post.author.name])\n",
    "\n",
    "posts_df = pd.DataFrame(posts, columns=col_names)"
   ]
  },
  {
   "cell_type": "code",
   "execution_count": null,
   "metadata": {},
   "outputs": [],
   "source": [
    "posts_df.head()"
   ]
  },
  {
   "cell_type": "code",
   "execution_count": null,
   "metadata": {},
   "outputs": [],
   "source": [
    "post_dct = {}\n",
    "all_posts = []\n",
    "\n",
    "for post in wsb_sub.top('year', limit=100):\n",
    "    post_dct['id'] = post.id\n",
    "    post_dct['title'] = post.title\n",
    "    post_dct['body'] = post.selftext\n",
    "    post_dct['score'] = post.score\n",
    "    post_dct['url'] = post.url\n",
    "    post_dct['num_comments'] = post.num_comments\n",
    "    post_dct['subreddit'] = post.subreddit\n",
    "    post_dct['upvote_ratio'] = post.upvote_ratio\n",
    "    post_dct['date_posted'] = datetime.utcfromtimestamp(post.created_utc)\n",
    "    post_dct['domain'] = post.domain\n",
    "    post_dct['gilded'] = post.gilded\n",
    "    post_dct['num_crossposts'] = post.num_crossposts\n",
    "    post_dct['over_18'] = post.over_18\n",
    "    post_dct['author_name'] = post.author.name\n",
    "    all_posts.append(post_dct)"
   ]
  },
  {
   "cell_type": "code",
   "execution_count": null,
   "metadata": {},
   "outputs": [],
   "source": [
    "post_dct.keys()"
   ]
  },
  {
   "cell_type": "code",
   "execution_count": null,
   "metadata": {},
   "outputs": [],
   "source": [
    "posts_df = pd.DataFrame(all_posts)\n",
    "posts_df.head()"
   ]
  },
  {
   "cell_type": "code",
   "execution_count": null,
   "metadata": {},
   "outputs": [],
   "source": []
  },
  {
   "cell_type": "code",
   "execution_count": null,
   "metadata": {},
   "outputs": [],
   "source": []
  },
  {
   "cell_type": "markdown",
   "metadata": {},
   "source": [
    "### Gamestop Share Price"
   ]
  },
  {
   "cell_type": "code",
   "execution_count": null,
   "metadata": {},
   "outputs": [],
   "source": [
    "def daily_company_prices_volume(ticker, start_date, end_date):\n",
    "    \"\"\"\n",
    "    Returns a company's daily share price and trading volume from Yahoo Finance.\n",
    "    \n",
    "    Parameters\n",
    "    ----------\n",
    "    ticker (str) : Company's stock market ticker\n",
    "    start_date (str) : First date to extract data (inclusive).\n",
    "    end_date (str) : Last date to extract data (exclusive).\n",
    "    \n",
    "    \"\"\"\n",
    "    company = yf.Ticker(ticker)\n",
    "    df = company.history(interval=\"1d\", start=start_date, end=end_date).reset_index()\n",
    "    return df"
   ]
  },
  {
   "cell_type": "code",
   "execution_count": null,
   "metadata": {},
   "outputs": [],
   "source": [
    "# Ryan Cohen - founder of Chewy - purchased hist first GME shares on 9/14/20\n",
    "start_date = \"2020-09-01\"\n",
    "end_date = \"2021-03-01\"\n",
    "ticker = \"GME\"\n",
    "\n",
    "# get historical market data\n",
    "gme_df = daily_company_prices_volume(ticker, start_date, end_date)"
   ]
  },
  {
   "cell_type": "code",
   "execution_count": null,
   "metadata": {},
   "outputs": [],
   "source": [
    "gme_df.tail()"
   ]
  },
  {
   "cell_type": "markdown",
   "metadata": {},
   "source": [
    "### AMC Share Price"
   ]
  },
  {
   "cell_type": "code",
   "execution_count": null,
   "metadata": {},
   "outputs": [],
   "source": [
    "start_date = \"2020-09-01\"\n",
    "end_date = \"2021-03-01\"\n",
    "ticker = \"AMC\"\n",
    "\n",
    "# get historical market data\n",
    "amc_df = daily_company_prices_volume(ticker, start_date, end_date)"
   ]
  },
  {
   "cell_type": "code",
   "execution_count": null,
   "metadata": {},
   "outputs": [],
   "source": [
    "amc_df.tail()"
   ]
  },
  {
   "cell_type": "code",
   "execution_count": null,
   "metadata": {},
   "outputs": [],
   "source": []
  }
 ],
 "metadata": {
  "kernelspec": {
   "display_name": "Python 3",
   "language": "python",
   "name": "python3"
  },
  "language_info": {
   "codemirror_mode": {
    "name": "ipython",
    "version": 3
   },
   "file_extension": ".py",
   "mimetype": "text/x-python",
   "name": "python",
   "nbconvert_exporter": "python",
   "pygments_lexer": "ipython3",
   "version": "3.9.2"
  }
 },
 "nbformat": 4,
 "nbformat_minor": 4
}
